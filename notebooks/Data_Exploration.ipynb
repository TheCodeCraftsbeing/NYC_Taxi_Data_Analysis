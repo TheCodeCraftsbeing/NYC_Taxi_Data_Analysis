{
 "cells": [
  {
   "cell_type": "code",
   "execution_count": 5,
   "metadata": {},
   "outputs": [
    {
     "name": "stdout",
     "output_type": "stream",
     "text": [
      "+-----------------------------+\n",
      "|PAR1\u0015\u0004\u0015@\u0015>L\u0015\\b\u0015\u0004\u0012\u0000\u0000\u001f�\\b\u0000\u0000\u0000\u0000\u0000\u0000|\n",
      "+-----------------------------+\n",
      "|         cd�\u0000&(�\u0002�Y�4\u0000��:�...|\n",
      "|         <�[�\u001dW��\\t�E7��� ...|\n",
      "|         %Ե�ժ�E�\u001co����u�P...|\n",
      "|         ��\u001f��&vc\\fz�1���^...|\n",
      "|         2|G:�\u0013;�rD��}�'\\&...|\n",
      "+-----------------------------+\n",
      "only showing top 5 rows\n",
      "\n",
      "root\n",
      " |-- PAR1\u0015\u0004\u0015@\u0015>L\u0015\\b\u0015\u0004\u0012\u0000\u0000\u001f�\\b\u0000\u0000\u0000\u0000\u0000\u0000: string (nullable = true)\n",
      "\n"
     ]
    }
   ],
   "source": [
    "import findspark\n",
    "findspark.init()\n",
    "\n",
    "from pyspark.sql import SparkSession\n",
    "import pandas as pd\n",
    "import matplotlib.pyplot as plt\n",
    "import seaborn as sns\n",
    "\n",
    "# Start Spark session\n",
    "spark = SparkSession.builder.appName(\"NYC_Taxi_Data_Analysis\").getOrCreate()\n",
    "\n",
    "# Load the parquet file into a DataFrame\n",
    "df = spark.read.parquet(\"../data/yellow_tripdata_2019-01.parquet\", header=True, inferSchema=True)\n",
    "\n",
    "# Show first few rows\n",
    "df.show(5)\n",
    "\n",
    "# Dataframe schema\n",
    "df.printSchema()\n"
   ]
  }
 ],
 "metadata": {
  "kernelspec": {
   "display_name": "Python 3",
   "language": "python",
   "name": "python3"
  },
  "language_info": {
   "codemirror_mode": {
    "name": "ipython",
    "version": 3
   },
   "file_extension": ".py",
   "mimetype": "text/x-python",
   "name": "python",
   "nbconvert_exporter": "python",
   "pygments_lexer": "ipython3",
   "version": "3.12.6"
  }
 },
 "nbformat": 4,
 "nbformat_minor": 2
}
